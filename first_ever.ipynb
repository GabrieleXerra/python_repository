{
 "cells": [
  {
   "cell_type": "markdown",
   "metadata": {},
   "source": [
    "# Titolo\n",
    "## sottotitolo\n",
    "Banale testo\n",
    "<b>Ciao<b>\n"
   ]
  },
  {
   "cell_type": "code",
   "execution_count": 8,
   "metadata": {},
   "outputs": [
    {
     "name": "stdout",
     "output_type": "stream",
     "text": [
      "Hello World!\n"
     ]
    }
   ],
   "source": [
    "print(\"Hello World!\")"
   ]
  },
  {
   "cell_type": "code",
   "execution_count": 9,
   "metadata": {},
   "outputs": [],
   "source": [
    "un_nome_a_caso = 5"
   ]
  },
  {
   "cell_type": "code",
   "execution_count": 10,
   "metadata": {},
   "outputs": [
    {
     "name": "stdout",
     "output_type": "stream",
     "text": [
      "5\n"
     ]
    }
   ],
   "source": [
    "print(un_nome_a_caso)"
   ]
  },
  {
   "cell_type": "code",
   "execution_count": 11,
   "metadata": {},
   "outputs": [],
   "source": [
    "nome_variabile = un_nome_a_caso + 10"
   ]
  },
  {
   "cell_type": "code",
   "execution_count": 12,
   "metadata": {},
   "outputs": [
    {
     "name": "stdout",
     "output_type": "stream",
     "text": [
      "15\n"
     ]
    }
   ],
   "source": [
    "print(nome_variabile)"
   ]
  },
  {
   "cell_type": "code",
   "execution_count": 13,
   "metadata": {},
   "outputs": [
    {
     "data": {
      "text/plain": [
       "int"
      ]
     },
     "execution_count": 13,
     "metadata": {},
     "output_type": "execute_result"
    }
   ],
   "source": [
    "type(nome_variabile)"
   ]
  },
  {
   "cell_type": "code",
   "execution_count": 14,
   "metadata": {},
   "outputs": [],
   "source": [
    "nome_bello=\"Gabriele\""
   ]
  },
  {
   "cell_type": "code",
   "execution_count": 15,
   "metadata": {},
   "outputs": [
    {
     "name": "stdout",
     "output_type": "stream",
     "text": [
      "GabrieleGabriele\n"
     ]
    }
   ],
   "source": [
    "print(nome_bello*2)"
   ]
  },
  {
   "cell_type": "code",
   "execution_count": 16,
   "metadata": {},
   "outputs": [
    {
     "ename": "TypeError",
     "evalue": "can only concatenate str (not \"int\") to str",
     "output_type": "error",
     "traceback": [
      "\u001b[31m---------------------------------------------------------------------------\u001b[39m",
      "\u001b[31mTypeError\u001b[39m                                 Traceback (most recent call last)",
      "\u001b[36mCell\u001b[39m\u001b[36m \u001b[39m\u001b[32mIn[16]\u001b[39m\u001b[32m, line 1\u001b[39m\n\u001b[32m----> \u001b[39m\u001b[32m1\u001b[39m \u001b[38;5;28mprint\u001b[39m(\u001b[43mnome_bello\u001b[49m\u001b[43m+\u001b[49m\u001b[32;43m2\u001b[39;49m)\n",
      "\u001b[31mTypeError\u001b[39m: can only concatenate str (not \"int\") to str"
     ]
    }
   ],
   "source": [
    "print(nome_bello+2)"
   ]
  },
  {
   "cell_type": "code",
   "execution_count": null,
   "metadata": {},
   "outputs": [
    {
     "name": "stdout",
     "output_type": "stream",
     "text": [
      "G\n"
     ]
    }
   ],
   "source": [
    "print(nome_bello[0])"
   ]
  },
  {
   "cell_type": "code",
   "execution_count": null,
   "metadata": {},
   "outputs": [
    {
     "name": "stdout",
     "output_type": "stream",
     "text": [
      "e\n"
     ]
    }
   ],
   "source": [
    "print(nome_bello[-1])"
   ]
  },
  {
   "cell_type": "code",
   "execution_count": 2,
   "metadata": {},
   "outputs": [],
   "source": [
    "questa_è_una_lista=['prima stringa','seconda stringa',1]"
   ]
  },
  {
   "cell_type": "code",
   "execution_count": 3,
   "metadata": {},
   "outputs": [
    {
     "name": "stdout",
     "output_type": "stream",
     "text": [
      "s\n"
     ]
    }
   ],
   "source": [
    "print(questa_è_una_lista[1][0])"
   ]
  },
  {
   "cell_type": "code",
   "execution_count": null,
   "metadata": {},
   "outputs": [],
   "source": [
    "pizzeria = ['pepperoni','margherita','pizza&fichi']"
   ]
  },
  {
   "cell_type": "code",
   "execution_count": null,
   "metadata": {},
   "outputs": [
    {
     "name": "stdout",
     "output_type": "stream",
     "text": [
      "bravo uaglio\n"
     ]
    }
   ],
   "source": [
    "if pizzeria[1][-1] == 's':\n",
    "    print(' vergognatevi questa non è una pizzeria ma un ortofrutta')\n",
    "else:\n",
    "    print('bravo uaglio')"
   ]
  },
  {
   "cell_type": "markdown",
   "metadata": {},
   "source": [
    "se l'ultima lettera della seconda pizza della pizzeria è una s stampo vergognatevi questa non è una pizzeria ma un ortofrutta .  Nome lista[elemento della lista][lettera dell'elemento della lista]\n"
   ]
  },
  {
   "cell_type": "code",
   "execution_count": null,
   "metadata": {},
   "outputs": [],
   "source": [
    "n_stendini=0\n",
    "budget_spesa=50\n",
    "prezzo_stendino=16"
   ]
  },
  {
   "cell_type": "code",
   "execution_count": null,
   "metadata": {},
   "outputs": [
    {
     "name": "stdout",
     "output_type": "stream",
     "text": [
      "money no more\n"
     ]
    }
   ],
   "source": [
    "if budget_spesa > prezzo_stendino:\n",
    "    print(\"compro uno stendino\")\n",
    "    n_stendini+=1\n",
    "\n",
    "    print(\"Stendini comprati:\", n_stendini)\n",
    "    budget_spesa-=prezzo_stendino\n",
    "\n",
    "    print(\"Budget rimanente: \", budget_spesa)\n",
    "\n",
    "\n",
    "print(\"money no more\")\n"
   ]
  },
  {
   "cell_type": "code",
   "execution_count": 4,
   "metadata": {},
   "outputs": [],
   "source": [
    "n_stendini=0\n",
    "budget_spesa=50\n",
    "prezzo_stendino=16\n",
    "prezzo_pizza=5"
   ]
  },
  {
   "cell_type": "code",
   "execution_count": null,
   "metadata": {},
   "outputs": [
    {
     "name": "stdout",
     "output_type": "stream",
     "text": [
      "compro uno stendino\n",
      "Stendini comprati: 1\n",
      "Budget rimanente:  34\n",
      "compro una pizza\n",
      "Budget rimanenet: \n",
      " pizza\n",
      "money no more\n"
     ]
    }
   ],
   "source": [
    "if budget_spesa > prezzo_stendino:\n",
    "    print(\"compro uno stendino\")\n",
    "    n_stendini+=1\n",
    "\n",
    "    print(\"Stendini comprati:\", n_stendini)\n",
    "    budget_spesa-=prezzo_stendino\n",
    "\n",
    "    print(\"Budget rimanente: \", budget_spesa)\n",
    "\n",
    "    if budget_spesa > 20:\n",
    "        print(\"compro una pizza\")\n",
    "\n",
    "        budget_spesa-=prezzo_pizza\n",
    "        print(\"Budget rimanenet: \")\n",
    "\n",
    "\n",
    "    print(\" pizza\")\n",
    "\n",
    "\n",
    "print(\"money no more\")"
   ]
  },
  {
   "cell_type": "code",
   "execution_count": null,
   "metadata": {},
   "outputs": [
    {
     "name": "stdout",
     "output_type": "stream",
     "text": [
      "\n",
      "Compro uno stendino\n",
      "Stendini comprati 1\n",
      "budget rimanente: 49\n",
      "\n",
      "Compro uno stendino\n",
      "Stendini comprati 2\n",
      "budget rimanente: 47\n",
      "\n",
      "Compro uno stendino\n",
      "Stendini comprati 3\n",
      "budget rimanente: 44\n",
      "\n",
      "Compro uno stendino\n",
      "Stendini comprati 4\n",
      "budget rimanente: 40\n",
      "\n",
      "Compro uno stendino\n",
      "Stendini comprati 5\n",
      "budget rimanente: 35\n",
      "\n",
      "Compro uno stendino\n",
      "Stendini comprati 6\n",
      "budget rimanente: 29\n",
      "\n",
      "Compro uno stendino\n",
      "Stendini comprati 7\n",
      "budget rimanente: 22\n",
      "\n",
      "Compro uno stendino\n",
      "Stendini comprati 8\n",
      "budget rimanente: 14\n",
      "Voglio uno stendino\n"
     ]
    }
   ],
   "source": [
    "while budget_spesa > prezzo_stendino:\n",
    "    print(\"\\nCompro uno stendino\")\n",
    "    n_stendini += 1\n",
    "\n",
    "    print(\"Stendini comprati\", n_stendini)\n",
    "    budget_spesa -= n_stendini\n",
    "\n",
    "    print(\"budget rimanente:\", budget_spesa)\n",
    "\n",
    "print(\"Voglio uno stendino\")"
   ]
  },
  {
   "cell_type": "code",
   "execution_count": null,
   "metadata": {},
   "outputs": [
    {
     "ename": "NameError",
     "evalue": "name 'lista_scarpe' is not defined",
     "output_type": "error",
     "traceback": [
      "\u001b[31m---------------------------------------------------------------------------\u001b[39m",
      "\u001b[31mNameError\u001b[39m                                 Traceback (most recent call last)",
      "\u001b[36mCell\u001b[39m\u001b[36m \u001b[39m\u001b[32mIn[1]\u001b[39m\u001b[32m, line 5\u001b[39m\n\u001b[32m      1\u001b[39m \u001b[38;5;28;01mimport\u001b[39;00m\u001b[38;5;250m \u001b[39m\u001b[34;01mpandas\u001b[39;00m\u001b[38;5;250m \u001b[39m\u001b[38;5;28;01mas\u001b[39;00m\u001b[38;5;250m \u001b[39m\u001b[34;01mpd\u001b[39;00m\n\u001b[32m      2\u001b[39m \u001b[38;5;28;01mimport\u001b[39;00m\u001b[38;5;250m \u001b[39m\u001b[34;01mmatplotlib\u001b[39;00m\u001b[34;01m.\u001b[39;00m\u001b[34;01mpyplot\u001b[39;00m\u001b[38;5;250m \u001b[39m\u001b[38;5;28;01mas\u001b[39;00m\u001b[38;5;250m \u001b[39m\u001b[34;01mplt\u001b[39;00m\n\u001b[32m      4\u001b[39m df = pd.DataFrame({\n\u001b[32m----> \u001b[39m\u001b[32m5\u001b[39m     \u001b[33m'\u001b[39m\u001b[33mnome\u001b[39m\u001b[33m'\u001b[39m: \u001b[43mlista_scarpe\u001b[49m,\n\u001b[32m      6\u001b[39m     \u001b[33m'\u001b[39m\u001b[33mprezzo\u001b[39m\u001b[33m'\u001b[39m: lista_prezzo\n\u001b[32m      7\u001b[39m })\n\u001b[32m      9\u001b[39m \u001b[38;5;66;03m#librerie\u001b[39;00m\n\u001b[32m     12\u001b[39m plt.figure(figuresize=(\u001b[32m15\u001b[39m,\u001b[32m5\u001b[39m))\n",
      "\u001b[31mNameError\u001b[39m: name 'lista_scarpe' is not defined"
     ]
    }
   ],
   "source": [
    "import pandas as pd\n",
    "import matplotlib.pyplot as plt\n",
    "#la definizione non è questa df delle due variabili ?\n",
    "df = pd.DataFrame({\n",
    "    'nome': lista_scarpe,\n",
    "    'prezzo': lista_prezzo\n",
    "})\n",
    "#librerie\n",
    "\n",
    "plt.figure(figuresize=(15,5))\n",
    "plt.bar(df['nome'],df['prezzo'])\n",
    "plt.title('Prezzi dei prodotti')\n",
    "plt.xlabel('Prodotti')\n",
    "plt.ylabel('Prezzo(€)')\n",
    "plt.tight_layout()\n",
    "plt.show()\n",
    "#caratteristiche del grafico"
   ]
  },
  {
   "cell_type": "code",
   "execution_count": null,
   "metadata": {},
   "outputs": [
    {
     "ename": "NameError",
     "evalue": "name 'lista_prezzo' is not defined",
     "output_type": "error",
     "traceback": [
      "\u001b[31m---------------------------------------------------------------------------\u001b[39m",
      "\u001b[31mNameError\u001b[39m                                 Traceback (most recent call last)",
      "\u001b[36mCell\u001b[39m\u001b[36m \u001b[39m\u001b[32mIn[4]\u001b[39m\u001b[32m, line 3\u001b[39m\n\u001b[32m      1\u001b[39m df = pd.DataFrame({\n\u001b[32m      2\u001b[39m     \u001b[33m'\u001b[39m\u001b[33mnome\u001b[39m\u001b[33m'\u001b[39m: lista_scarpe,\n\u001b[32m----> \u001b[39m\u001b[32m3\u001b[39m     \u001b[33m'\u001b[39m\u001b[33mprezzo\u001b[39m\u001b[33m'\u001b[39m: \u001b[43mlista_prezzo\u001b[49m\n\u001b[32m      4\u001b[39m })\n\u001b[32m      5\u001b[39m \u001b[38;5;28mprint\u001b[39m(df)\n",
      "\u001b[31mNameError\u001b[39m: name 'lista_prezzo' is not defined"
     ]
    }
   ],
   "source": [
    "df = pd.DataFrame({\n",
    "    'nome': lista_scarpe,\n",
    "    'prezzo': lista_prezzo\n",
    "})\n",
    "print(df)"
   ]
  },
  {
   "cell_type": "code",
   "execution_count": 8,
   "metadata": {},
   "outputs": [
    {
     "name": "stdout",
     "output_type": "stream",
     "text": [
      "Un nuovo elemento\n",
      "N\n",
      "Nike\n",
      "Un nuovo elemento\n",
      "P\n",
      "Puma\n",
      "Un nuovo elemento\n",
      "A\n",
      "Adidas\n",
      "Un nuovo elemento\n",
      "C\n",
      "Converse\n"
     ]
    }
   ],
   "source": [
    "lista_scarpe = ['Nike','Puma','Adidas','Converse']\n",
    "\n",
    "for i in lista_scarpe:\n",
    "    print('Un nuovo elemento')\n",
    "    print(i[0])\n",
    "    print(i)"
   ]
  },
  {
   "cell_type": "code",
   "execution_count": null,
   "metadata": {},
   "outputs": [
    {
     "name": "stdout",
     "output_type": "stream",
     "text": [
      "[1, 2, 3]\n"
     ]
    },
    {
     "data": {
      "text/plain": [
       "[1, 2, 3]"
      ]
     },
     "execution_count": 8,
     "metadata": {},
     "output_type": "execute_result"
    }
   ],
   "source": [
    "lista = [1,2,3]\n",
    "print (lista)\n",
    "#lista[:]\n",
    "\n"
   ]
  },
  {
   "cell_type": "code",
   "execution_count": null,
   "metadata": {},
   "outputs": [
    {
     "name": "stdout",
     "output_type": "stream",
     "text": [
      "0.5\n",
      "1.0\n",
      "1.5\n"
     ]
    }
   ],
   "source": [
    "for numero in  lista:\n",
    "    print(numero/2)"
   ]
  },
  {
   "cell_type": "code",
   "execution_count": null,
   "metadata": {},
   "outputs": [
    {
     "data": {
      "text/plain": [
       "[3]"
      ]
     },
     "execution_count": 16,
     "metadata": {},
     "output_type": "execute_result"
    }
   ],
   "source": [
    "#lista.append(1)\n",
    "#lista\n",
    "lista.remove(2)\n",
    "lista\n",
    "#chiamare un metodo della classe lista\n",
    "#lista è un oggetto : ha delle cose per usare le liste"
   ]
  },
  {
   "cell_type": "code",
   "execution_count": null,
   "metadata": {},
   "outputs": [
    {
     "ename": "TypeError",
     "evalue": "list.append() takes exactly one argument (3 given)",
     "output_type": "error",
     "traceback": [
      "\u001b[31m---------------------------------------------------------------------------\u001b[39m",
      "\u001b[31mTypeError\u001b[39m                                 Traceback (most recent call last)",
      "\u001b[36mCell\u001b[39m\u001b[36m \u001b[39m\u001b[32mIn[26]\u001b[39m\u001b[32m, line 2\u001b[39m\n\u001b[32m      1\u001b[39m \u001b[38;5;28;01mfor\u001b[39;00m numero \u001b[38;5;129;01min\u001b[39;00m lista_di_interi:\n\u001b[32m----> \u001b[39m\u001b[32m2\u001b[39m     numero(\u001b[43mlista_di_interi\u001b[49m\u001b[43m.\u001b[49m\u001b[43mappend\u001b[49m\u001b[43m(\u001b[49m\u001b[32;43m1\u001b[39;49m\u001b[43m,\u001b[49m\u001b[32;43m2\u001b[39;49m\u001b[43m,\u001b[49m\u001b[32;43m3\u001b[39;49m\u001b[43m)\u001b[49m)\n\u001b[32m      3\u001b[39m     lista_di_interi\n",
      "\u001b[31mTypeError\u001b[39m: list.append() takes exactly one argument (3 given)"
     ]
    }
   ],
   "source": [
    "for numero in lista_di_interi:\n",
    "    numero(lista_di_interi.append(1,2,3))\n",
    "    lista_di_interi"
   ]
  },
  {
   "cell_type": "code",
   "execution_count": 26,
   "metadata": {},
   "outputs": [],
   "source": [
    "lista_di_interi = []"
   ]
  },
  {
   "cell_type": "code",
   "execution_count": 27,
   "metadata": {},
   "outputs": [],
   "source": [
    "lista = ['1','2','3']"
   ]
  },
  {
   "cell_type": "code",
   "execution_count": 28,
   "metadata": {},
   "outputs": [],
   "source": [
    "for numero in lista:\n",
    "    numero_convertito = int(numero)\n",
    "    lista_di_interi.append(numero_convertito)"
   ]
  },
  {
   "cell_type": "code",
   "execution_count": 29,
   "metadata": {},
   "outputs": [
    {
     "data": {
      "text/plain": [
       "[1, 2, 3]"
      ]
     },
     "execution_count": 29,
     "metadata": {},
     "output_type": "execute_result"
    }
   ],
   "source": [
    "lista_di_interi"
   ]
  },
  {
   "cell_type": "code",
   "execution_count": 30,
   "metadata": {},
   "outputs": [
    {
     "data": {
      "text/plain": [
       "6"
      ]
     },
     "execution_count": 30,
     "metadata": {},
     "output_type": "execute_result"
    }
   ],
   "source": [
    "somma = 0\n",
    "for numero in lista_di_interi:\n",
    "    somma += numero\n",
    "somma"
   ]
  },
  {
   "cell_type": "code",
   "execution_count": 24,
   "metadata": {},
   "outputs": [
    {
     "ename": "KeyboardInterrupt",
     "evalue": "",
     "output_type": "error",
     "traceback": [
      "\u001b[31m---------------------------------------------------------------------------\u001b[39m",
      "\u001b[31mKeyboardInterrupt\u001b[39m                         Traceback (most recent call last)",
      "\u001b[36mCell\u001b[39m\u001b[36m \u001b[39m\u001b[32mIn[24]\u001b[39m\u001b[32m, line 4\u001b[39m\n\u001b[32m      2\u001b[39m \u001b[38;5;28;01mfor\u001b[39;00m numero \u001b[38;5;129;01min\u001b[39;00m lista_di_interi:\n\u001b[32m      3\u001b[39m     somma = (numero+numero)\n\u001b[32m----> \u001b[39m\u001b[32m4\u001b[39m     lista_di_interi.append(somma)\n",
      "\u001b[31mKeyboardInterrupt\u001b[39m: "
     ]
    }
   ],
   "source": [
    "somma=0\n",
    "for numero in lista_di_interi:\n",
    "    somma = (numero+numero)\n",
    "    lista_di_interi.append(somma)"
   ]
  },
  {
   "cell_type": "code",
   "execution_count": 19,
   "metadata": {},
   "outputs": [],
   "source": [
    "numeri_stringhe = ['1','2','3']"
   ]
  },
  {
   "cell_type": "code",
   "execution_count": 22,
   "metadata": {},
   "outputs": [
    {
     "ename": "NameError",
     "evalue": "name 'lista_con_interi' is not defined",
     "output_type": "error",
     "traceback": [
      "\u001b[31m---------------------------------------------------------------------------\u001b[39m",
      "\u001b[31mNameError\u001b[39m                                 Traceback (most recent call last)",
      "\u001b[36mCell\u001b[39m\u001b[36m \u001b[39m\u001b[32mIn[22]\u001b[39m\u001b[32m, line 1\u001b[39m\n\u001b[32m----> \u001b[39m\u001b[32m1\u001b[39m \u001b[38;5;28;01mfor\u001b[39;00m numero_intero \u001b[38;5;129;01min\u001b[39;00m \u001b[43mlista_con_interi\u001b[49m:\n\u001b[32m      2\u001b[39m     numero_intero = \u001b[38;5;28mint\u001b[39m(numero)\n\u001b[32m      3\u001b[39m     lista_con_interi.append(numero_intero)\n",
      "\u001b[31mNameError\u001b[39m: name 'lista_con_interi' is not defined"
     ]
    }
   ],
   "source": [
    "for numero_intero in lista_con_interi:\n",
    "    numero_intero = int(numero)\n",
    "    lista_con_interi.append(numero_intero)"
   ]
  },
  {
   "cell_type": "code",
   "execution_count": 23,
   "metadata": {},
   "outputs": [],
   "source": [
    "pippo = 'cane e gatto'"
   ]
  },
  {
   "cell_type": "code",
   "execution_count": 24,
   "metadata": {},
   "outputs": [
    {
     "name": "stdout",
     "output_type": "stream",
     "text": [
      "c\n",
      "a\n",
      "n\n",
      "e\n",
      " \n",
      "e\n",
      " \n",
      "g\n",
      "a\n",
      "t\n",
      "t\n",
      "o\n"
     ]
    }
   ],
   "source": [
    "for lettera in pippo:\n",
    "    print(lettera)"
   ]
  }
 ],
 "metadata": {
  "kernelspec": {
   "display_name": "Python 3",
   "language": "python",
   "name": "python3"
  },
  "language_info": {
   "codemirror_mode": {
    "name": "ipython",
    "version": 3
   },
   "file_extension": ".py",
   "mimetype": "text/x-python",
   "name": "python",
   "nbconvert_exporter": "python",
   "pygments_lexer": "ipython3",
   "version": "3.12.9"
  }
 },
 "nbformat": 4,
 "nbformat_minor": 2
}
