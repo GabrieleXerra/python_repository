{
 "cells": [
  {
   "cell_type": "code",
   "execution_count": 23,
   "metadata": {},
   "outputs": [],
   "source": [
    "lista_di_interi = []"
   ]
  },
  {
   "cell_type": "code",
   "execution_count": 24,
   "metadata": {},
   "outputs": [],
   "source": [
    "lista = ['1','2','3']"
   ]
  },
  {
   "cell_type": "code",
   "execution_count": 25,
   "metadata": {},
   "outputs": [],
   "source": [
    "for i in lista_di_interi:\n",
    "    numero_convertito = int(i)\n",
    "    lista_di_interi.append(numero_convertito)"
   ]
  },
  {
   "cell_type": "code",
   "execution_count": 27,
   "metadata": {},
   "outputs": [
    {
     "data": {
      "text/plain": [
       "[]"
      ]
     },
     "execution_count": 27,
     "metadata": {},
     "output_type": "execute_result"
    }
   ],
   "source": [
    "lista_di_interi"
   ]
  },
  {
   "cell_type": "code",
   "execution_count": null,
   "metadata": {},
   "outputs": [],
   "source": [
    "somma = 0"
   ]
  },
  {
   "cell_type": "code",
   "execution_count": null,
   "metadata": {},
   "outputs": [
    {
     "data": {
      "text/plain": [
       "0"
      ]
     },
     "execution_count": 20,
     "metadata": {},
     "output_type": "execute_result"
    }
   ],
   "source": [
    "\n",
    "for numero in lista_di_interi:\n",
    "    somma = somma + numero\n",
    "somma"
   ]
  },
  {
   "cell_type": "code",
   "execution_count": 21,
   "metadata": {},
   "outputs": [
    {
     "data": {
      "text/plain": [
       "0"
      ]
     },
     "execution_count": 21,
     "metadata": {},
     "output_type": "execute_result"
    }
   ],
   "source": [
    "somma = 0\n",
    "for numero in lista_di_interi:\n",
    "    somma += numero\n",
    "somma"
   ]
  },
  {
   "cell_type": "markdown",
   "metadata": {},
   "source": [
    "Sommare tutti i numeri pari"
   ]
  },
  {
   "cell_type": "code",
   "execution_count": null,
   "metadata": {},
   "outputs": [],
   "source": [
    "somma = 0\n",
    "for numero in lista_di_interi:\n",
    "    if numero % 2 == 0\n",
    "        somma = somma + numero\n",
    "somma\n"
   ]
  },
  {
   "cell_type": "markdown",
   "metadata": {},
   "source": [
    "scrivi una lunga stringa trasformiamo in maiuscolo solo le lettere in posizioni "
   ]
  },
  {
   "cell_type": "code",
   "execution_count": null,
   "metadata": {},
   "outputs": [
    {
     "data": {
      "text/plain": [
       "False"
      ]
     },
     "execution_count": 8,
     "metadata": {},
     "output_type": "execute_result"
    }
   ],
   "source": [
    "\"c6\".isdigit()\n",
    "#metodo delle stringhe per sapere se il valore è convertibile"
   ]
  },
  {
   "cell_type": "code",
   "execution_count": 30,
   "metadata": {},
   "outputs": [],
   "source": [
    "stringa_lunga='ciao 2 67  65555parole'"
   ]
  },
  {
   "cell_type": "code",
   "execution_count": 31,
   "metadata": {},
   "outputs": [
    {
     "name": "stdout",
     "output_type": "stream",
     "text": [
      "8\n"
     ]
    }
   ],
   "source": [
    "conteggio = 0\n",
    "for i in stringa_lunga:\n",
    "    if i.isdigit():\n",
    "        conteggio += 1  \n",
    "print(conteggio)"
   ]
  },
  {
   "cell_type": "code",
   "execution_count": null,
   "metadata": {},
   "outputs": [
    {
     "name": "stdout",
     "output_type": "stream",
     "text": [
      "a letter is  a digit? False \n",
      "a number is  a digit? True \n"
     ]
    }
   ],
   "source": [
    "a_letter = \"a\"\n",
    "a_number = \"1\"\n",
    "\n",
    "print(f\"a letter is  a digit? {a_letter.isdigit()} \")\n",
    "print(f\"a number is  a digit? {a_number.isdigit()} \")"
   ]
  },
  {
   "cell_type": "code",
   "execution_count": null,
   "metadata": {},
   "outputs": [
    {
     "name": "stdout",
     "output_type": "stream",
     "text": [
      "a_number is even? True\n"
     ]
    }
   ],
   "source": [
    "a_number = 2\n",
    "print(f\"a_number is even? {a_number %2 == 0}\")"
   ]
  },
  {
   "cell_type": "code",
   "execution_count": null,
   "metadata": {},
   "outputs": [
    {
     "name": "stdout",
     "output_type": "stream",
     "text": [
      "a_word is uppercase? True\n"
     ]
    }
   ],
   "source": [
    "a_word = \"A\"\n",
    "print(f\"a_word is uppercase? {a_word.isupper()}\")"
   ]
  },
  {
   "cell_type": "code",
   "execution_count": null,
   "metadata": {},
   "outputs": [
    {
     "data": {
      "text/plain": [
       "True"
      ]
     },
     "execution_count": 6,
     "metadata": {},
     "output_type": "execute_result"
    }
   ],
   "source": [
    "\"a\" in \"aeiou\""
   ]
  },
  {
   "cell_type": "markdown",
   "metadata": {},
   "source": [
    "# Traccia\n",
    "data la seguente stringa \"a,bcDE9f10\" stampa tutte le lettere maiuscole"
   ]
  },
  {
   "cell_type": "code",
   "execution_count": null,
   "metadata": {},
   "outputs": [
    {
     "name": "stdout",
     "output_type": "stream",
     "text": [
      "E\n",
      "E\n",
      "E\n",
      "E\n",
      "E\n",
      "E\n",
      "E\n",
      "E\n",
      "A\n",
      "A\n",
      "A\n",
      "C\n",
      "F\n",
      "F\n",
      "B\n",
      "F\n",
      "D\n",
      "D\n",
      "E\n",
      "a,bcfeffffffEEEEEEEEAAACFFBFDDE9f10\n"
     ]
    }
   ],
   "source": [
    "stringa = \"a,bcfeffffffEEEEEEEEAAACFFBFDDE9f10\" \n",
    "for i in stringa:\n",
    "    if i.isupper():\n",
    "        print (i)  \n",
    "print(stringa)"
   ]
  },
  {
   "cell_type": "code",
   "execution_count": null,
   "metadata": {},
   "outputs": [
    {
     "name": "stdout",
     "output_type": "stream",
     "text": [
      "A\n",
      "B\n",
      "C\n",
      "D\n",
      "E\n",
      "F\n",
      "a,bcDE9f10\n"
     ]
    }
   ],
   "source": [
    "stringa = \"a,bcDE9f10\" #scorriamo la stringa\n",
    "for i in stringa:\n",
    "    if i.isupper():\n",
    "        print (i)\n",
    "    if i.islower():\n",
    "        print(i.upper())\n",
    "print(stringa)"
   ]
  },
  {
   "cell_type": "markdown",
   "metadata": {},
   "source": [
    "# Stampiamo \"Trovato\" ogni volta che troviamo una vocale altrimenti stampi cotoletta"
   ]
  },
  {
   "cell_type": "code",
   "execution_count": null,
   "metadata": {},
   "outputs": [
    {
     "name": "stdout",
     "output_type": "stream",
     "text": [
      "Trovato\n",
      "cotoletta\n",
      "cotoletta\n",
      "cotoletta\n",
      "cotoletta\n",
      "Trovato\n",
      "cotoletta\n",
      "cotoletta\n",
      "cotoletta\n",
      "cotoletta\n"
     ]
    }
   ],
   "source": [
    "stringa = \"a,bcDE9f10\" #scorriamo la stringa\n",
    "for i in stringa:\n",
    "    if i in \"aeiouAEIOU\":\n",
    "        print(\"Trovato\")\n",
    "    else:\n",
    "        print(\"cotoletta\")"
   ]
  },
  {
   "cell_type": "code",
   "execution_count": null,
   "metadata": {},
   "outputs": [
    {
     "name": "stdout",
     "output_type": "stream",
     "text": [
      "Trovato\n",
      "cotoletta\n",
      "cotoletta\n",
      "cotoletta\n",
      "cotoletta\n",
      "Trovato\n",
      "cotoletta\n",
      "cotoletta\n",
      "cotoletta\n",
      "cotoletta\n"
     ]
    }
   ],
   "source": [
    "stringa = \"a,bcDE9f10\" #scorriamo la stringa\n",
    "for i in stringa:\n",
    "    if i.lower() in \"aeiou\":\n",
    "        print(\"Trovato\")\n",
    "    else:\n",
    "        print(\"cotoletta\")"
   ]
  },
  {
   "cell_type": "markdown",
   "metadata": {},
   "source": [
    "# Stampa tutti i numeri < 5 e pari"
   ]
  },
  {
   "cell_type": "code",
   "execution_count": null,
   "metadata": {},
   "outputs": [
    {
     "name": "stdout",
     "output_type": "stream",
     "text": [
      "4\n",
      "4\n",
      "2\n"
     ]
    }
   ],
   "source": [
    "x = \"iufierwfrwer5888844112\"\n",
    "for i  in x:\n",
    "    if i.isdigit() and  int(i) < 5 and int(i) % 2 == 0:\n",
    "        print(i)"
   ]
  },
  {
   "cell_type": "markdown",
   "metadata": {},
   "source": [
    "# Stampi tutto in cui si trova in posizione pari"
   ]
  },
  {
   "cell_type": "code",
   "execution_count": null,
   "metadata": {},
   "outputs": [
    {
     "name": "stdout",
     "output_type": "stream",
     "text": [
      "i\n",
      "u\n",
      "f\n",
      "i\n",
      "e\n",
      "r\n",
      "w\n",
      "f\n",
      "r\n",
      "w\n",
      "e\n",
      "r\n",
      "5\n",
      "8\n",
      "8\n",
      "8\n",
      "8\n",
      "4\n",
      "4\n",
      "1\n",
      "1\n",
      "2\n"
     ]
    }
   ],
   "source": [
    "conteggio = 0\n",
    "for i in x:\n",
    "    if i :conteggio += 2 \n",
    "    print(i)"
   ]
  },
  {
   "cell_type": "code",
   "execution_count": 33,
   "metadata": {},
   "outputs": [
    {
     "name": "stdout",
     "output_type": "stream",
     "text": [
      "f\n",
      "i\n",
      "w\n",
      "r\n",
      "j\n",
      "w\n",
      "1\n",
      "r\n"
     ]
    }
   ],
   "source": [
    "stringa_bella = 'f2irwirfj2wi1er'\n",
    "somma = 0\n",
    "for i in stringa_bella:\n",
    "    if somma % 2 == 0:\n",
    "        print(i)\n",
    "    somma += 1"
   ]
  },
  {
   "cell_type": "markdown",
   "metadata": {},
   "source": [
    "# sommare tutti i numeri e mettere tutti i caratteri in una lista"
   ]
  },
  {
   "cell_type": "code",
   "execution_count": null,
   "metadata": {},
   "outputs": [
    {
     "ename": "NameError",
     "evalue": "name 'stringa_bella' is not defined",
     "output_type": "error",
     "traceback": [
      "\u001b[31m---------------------------------------------------------------------------\u001b[39m",
      "\u001b[31mNameError\u001b[39m                                 Traceback (most recent call last)",
      "\u001b[36mCell\u001b[39m\u001b[36m \u001b[39m\u001b[32mIn[11]\u001b[39m\u001b[32m, line 3\u001b[39m\n\u001b[32m      1\u001b[39m lista=[]\n\u001b[32m      2\u001b[39m sommatoria = \u001b[32m0\u001b[39m\n\u001b[32m----> \u001b[39m\u001b[32m3\u001b[39m \u001b[38;5;28;01mfor\u001b[39;00m i \u001b[38;5;129;01min\u001b[39;00m \u001b[43mstringa_bella\u001b[49m:\n\u001b[32m      4\u001b[39m     \u001b[38;5;28;01mif\u001b[39;00m i.isdigit():\n\u001b[32m      5\u001b[39m         sommatoria= sommatoria +\u001b[38;5;28mint\u001b[39m(i)\n",
      "\u001b[31mNameError\u001b[39m: name 'stringa_bella' is not defined"
     ]
    }
   ],
   "source": [
    "lista=[]\n",
    "sommatoria = 0\n",
    "for i in stringa_bella:\n",
    "    if i.isdigit():\n",
    "        sommatoria= sommatoria +int(i)\n",
    "    else:\n",
    "        lista.append(i)\n",
    "print(somma,lista)"
   ]
  },
  {
   "cell_type": "code",
   "execution_count": 34,
   "metadata": {},
   "outputs": [],
   "source": [
    "coppie_di_numeri = [(1,2), (3,4), (5,6)]\n",
    "#calcoliamo la media, tramite una funzione\n",
    "def calcola_media(primo_numero, secondo_numero):\n",
    "    media = (primo_numero + secondo_numero)/2\n",
    "    print(media)   #no output"
   ]
  },
  {
   "cell_type": "code",
   "execution_count": 35,
   "metadata": {},
   "outputs": [
    {
     "name": "stdout",
     "output_type": "stream",
     "text": [
      "1.5\n",
      "3.5\n",
      "5.5\n"
     ]
    }
   ],
   "source": [
    "for i in coppie_di_numeri:\n",
    "    calcola_media(primo_numero = i[0],\n",
    "                  secondo_numero = i[1])\n",
    "    #il print c'è già sopra\n"
   ]
  },
  {
   "cell_type": "code",
   "execution_count": 39,
   "metadata": {},
   "outputs": [],
   "source": [
    "def invert_capitalized(char):\n",
    "    if char.isupper():\n",
    "        return char.lower()\n",
    "    elif char.islower():\n",
    "        return char.upper()"
   ]
  },
  {
   "cell_type": "code",
   "execution_count": 43,
   "metadata": {},
   "outputs": [
    {
     "data": {
      "text/plain": [
       "'NONSIVEDEBENECHECONILCUORELESSENZIALEÈINVISIBILEAGLIOCCHI'"
      ]
     },
     "execution_count": 43,
     "metadata": {},
     "output_type": "execute_result"
    }
   ],
   "source": [
    "superstringa = \"nonsivedebenecheconilcuorelessenzialeèinvisibileagliocchi\"\n",
    "stringa_invertita = \"\"\n",
    "\n",
    "for lettera in superstringa:\n",
    "    inverted_char = invert_capitalized(lettera)\n",
    "    stringa_invertita += inverted_char\n",
    "\n",
    "stringa_invertita"
   ]
  },
  {
   "cell_type": "code",
   "execution_count": 44,
   "metadata": {},
   "outputs": [],
   "source": [
    "def somma(a, b):\n",
    "    somma_numeri = a + b\n",
    "    print(f\"Somma di {a} e {b}: {somma_numeri}\")\n",
    "    return somma_numeri"
   ]
  },
  {
   "cell_type": "code",
   "execution_count": 45,
   "metadata": {},
   "outputs": [
    {
     "name": "stdout",
     "output_type": "stream",
     "text": [
      "Somma di 1 e 5: 6\n",
      "output: 6\n"
     ]
    }
   ],
   "source": [
    "output =  somma(1, 5)\n",
    "print(f\"output: {output}\")"
   ]
  },
  {
   "cell_type": "code",
   "execution_count": 48,
   "metadata": {},
   "outputs": [],
   "source": [
    "stringa_da_invertire = \"Piccoloprincipe\"\n",
    "\n",
    "def inverti_stringa(parametro):\n",
    "    return parametro[::-1]"
   ]
  },
  {
   "cell_type": "code",
   "execution_count": 49,
   "metadata": {},
   "outputs": [
    {
     "name": "stdout",
     "output_type": "stream",
     "text": [
      "epicnirpolocciP\n"
     ]
    }
   ],
   "source": [
    "stringa_INVERTITA = inverti_stringa(stringa_da_invertire)\n",
    "print(stringa_INVERTITA)"
   ]
  },
  {
   "cell_type": "code",
   "execution_count": null,
   "metadata": {},
   "outputs": [],
   "source": [
    "def stampa_in_maiuscolo_solo_le_vocali(blablabla):\n",
    "    vocali = \"aeiou\"\n",
    "    for lettera in blablabla:\n",
    "        if lettera.lower() in vocali:\n",
    "            print(lettera.upper())\n",
    "        print(\"FINE\")"
   ]
  },
  {
   "cell_type": "code",
   "execution_count": null,
   "metadata": {},
   "outputs": [
    {
     "name": "stdout",
     "output_type": "stream",
     "text": [
      "FINE\n",
      "I\n",
      "FINE\n",
      "A\n",
      "FINE\n",
      "O\n",
      "FINE\n",
      "FINE\n",
      "FINE\n",
      "O\n",
      "FINE\n",
      "FINE\n",
      "E\n",
      "FINE\n",
      "FINE\n",
      "FINE\n",
      "FINE\n",
      "A\n",
      "FINE\n",
      "I\n",
      "FINE\n",
      "FINE\n"
     ]
    }
   ],
   "source": [
    "stampa_in_maiuscolo_solo_le_vocali(\"ciao come stai?\")\n",
    "#stampa_in_maiuscolo_solo_le_vocali(\"aeiou\")\n",
    "#stampa_in_maiuscolo_solo_le_vocali(\"!!!!!!\")\n",
    "#stampa_in_maiuscolo_solo_le_vocali(\"$$$\")"
   ]
  },
  {
   "cell_type": "markdown",
   "metadata": {},
   "source": [
    "Saperci porre le giuste domande"
   ]
  }
 ],
 "metadata": {
  "kernelspec": {
   "display_name": "Python 3",
   "language": "python",
   "name": "python3"
  },
  "language_info": {
   "codemirror_mode": {
    "name": "ipython",
    "version": 3
   },
   "file_extension": ".py",
   "mimetype": "text/x-python",
   "name": "python",
   "nbconvert_exporter": "python",
   "pygments_lexer": "ipython3",
   "version": "3.12.9"
  }
 },
 "nbformat": 4,
 "nbformat_minor": 2
}
